{
 "cells": [
  {
   "cell_type": "markdown",
   "metadata": {},
   "source": [
    "\n",
    "<h1> Trabajo práctico (3 puntos): Piedra Hoja Tijeras</h1>"
   ]
  },
  {
   "cell_type": "markdown",
   "metadata": {},
   "source": [
    "Queremos desarrollar una máquina capaz de ganar al juego \"Piedra Hoja Tijeras\" anticipando el gesto del adversario. Suponemos que tenemos acceso a datos de sensores EMG (electromigrafía) que miden en tiempo real la actividad muscular del adversario.\n",
    "\n",
    "Tenemos a nuestra disposición un dataset que contiene observaciones de 3 tipos de gestos: piedra (0), hoja (1) y tijeras (2). Por cada observación, tenemos acceso a 8 sensores musculares y se recopila 8 mediciones de cada sensor justo antes de que el jugador revele su gesto. Es decir, tenemos 64 mediciones por cada observación.\n",
    "\n",
    "\n",
    "\n",
    "Queremos aprender un modelo de clasificación capaz de predecir que gesto va a hacer el jugador.\n",
    "\n",
    "1)Desarrollar un script python para entrenar y evaluar al menos 3 modelos de clasificación distintos, limpiando o transformando los datos si lo estiman necesario.\n",
    "\n",
    "2)¿Qué precisión y recall obtiene?\n",
    "\n",
    "3)¿Cómo se comparta los puntajas de precisión y recall según el tamaño del dataset de entrenamiento? Probar con varios tamaño de dataset de entrenamiento y graficar las curvas de Precicion o Recall según el tamaño del dataset de entrenamiento. ¿Qué observan?\n",
    "\n"
   ]
  },
  {
   "cell_type": "code",
   "execution_count": 1,
   "metadata": {},
   "outputs": [
    {
     "data": {
      "text/html": [
       "<div>\n",
       "<style scoped>\n",
       "    .dataframe tbody tr th:only-of-type {\n",
       "        vertical-align: middle;\n",
       "    }\n",
       "\n",
       "    .dataframe tbody tr th {\n",
       "        vertical-align: top;\n",
       "    }\n",
       "\n",
       "    .dataframe thead th {\n",
       "        text-align: right;\n",
       "    }\n",
       "</style>\n",
       "<table border=\"1\" class=\"dataframe\">\n",
       "  <thead>\n",
       "    <tr style=\"text-align: right;\">\n",
       "      <th></th>\n",
       "      <th>S1M1</th>\n",
       "      <th>S2M1</th>\n",
       "      <th>S3M1</th>\n",
       "      <th>S4M1</th>\n",
       "      <th>S5M1</th>\n",
       "      <th>S6M1</th>\n",
       "      <th>S7M1</th>\n",
       "      <th>S8M1</th>\n",
       "      <th>Clase</th>\n",
       "    </tr>\n",
       "  </thead>\n",
       "  <tbody>\n",
       "    <tr>\n",
       "      <th>0</th>\n",
       "      <td>26.0</td>\n",
       "      <td>4.0</td>\n",
       "      <td>5.0</td>\n",
       "      <td>8.0</td>\n",
       "      <td>-1.0</td>\n",
       "      <td>-13.0</td>\n",
       "      <td>-109.0</td>\n",
       "      <td>-66.0</td>\n",
       "      <td>0</td>\n",
       "    </tr>\n",
       "    <tr>\n",
       "      <th>1</th>\n",
       "      <td>-47.0</td>\n",
       "      <td>-6.0</td>\n",
       "      <td>-5.0</td>\n",
       "      <td>-7.0</td>\n",
       "      <td>13.0</td>\n",
       "      <td>-1.0</td>\n",
       "      <td>35.0</td>\n",
       "      <td>-10.0</td>\n",
       "      <td>0</td>\n",
       "    </tr>\n",
       "    <tr>\n",
       "      <th>2</th>\n",
       "      <td>-19.0</td>\n",
       "      <td>-8.0</td>\n",
       "      <td>-8.0</td>\n",
       "      <td>-8.0</td>\n",
       "      <td>-21.0</td>\n",
       "      <td>-6.0</td>\n",
       "      <td>-79.0</td>\n",
       "      <td>12.0</td>\n",
       "      <td>0</td>\n",
       "    </tr>\n",
       "    <tr>\n",
       "      <th>3</th>\n",
       "      <td>2.0</td>\n",
       "      <td>3.0</td>\n",
       "      <td>0.0</td>\n",
       "      <td>2.0</td>\n",
       "      <td>0.0</td>\n",
       "      <td>22.0</td>\n",
       "      <td>106.0</td>\n",
       "      <td>-14.0</td>\n",
       "      <td>0</td>\n",
       "    </tr>\n",
       "    <tr>\n",
       "      <th>4</th>\n",
       "      <td>6.0</td>\n",
       "      <td>0.0</td>\n",
       "      <td>0.0</td>\n",
       "      <td>-2.0</td>\n",
       "      <td>-14.0</td>\n",
       "      <td>10.0</td>\n",
       "      <td>-51.0</td>\n",
       "      <td>5.0</td>\n",
       "      <td>0</td>\n",
       "    </tr>\n",
       "    <tr>\n",
       "      <th>5</th>\n",
       "      <td>15.0</td>\n",
       "      <td>-5.0</td>\n",
       "      <td>-5.0</td>\n",
       "      <td>-15.0</td>\n",
       "      <td>12.0</td>\n",
       "      <td>-22.0</td>\n",
       "      <td>-38.0</td>\n",
       "      <td>36.0</td>\n",
       "      <td>0</td>\n",
       "    </tr>\n",
       "    <tr>\n",
       "      <th>6</th>\n",
       "      <td>-12.0</td>\n",
       "      <td>-5.0</td>\n",
       "      <td>-1.0</td>\n",
       "      <td>4.0</td>\n",
       "      <td>-16.0</td>\n",
       "      <td>-17.0</td>\n",
       "      <td>-69.0</td>\n",
       "      <td>-16.0</td>\n",
       "      <td>0</td>\n",
       "    </tr>\n",
       "    <tr>\n",
       "      <th>7</th>\n",
       "      <td>43.0</td>\n",
       "      <td>0.0</td>\n",
       "      <td>-2.0</td>\n",
       "      <td>6.0</td>\n",
       "      <td>11.0</td>\n",
       "      <td>26.0</td>\n",
       "      <td>51.0</td>\n",
       "      <td>27.0</td>\n",
       "      <td>0</td>\n",
       "    </tr>\n",
       "  </tbody>\n",
       "</table>\n",
       "</div>"
      ],
      "text/plain": [
       "   S1M1  S2M1  S3M1  S4M1  S5M1  S6M1   S7M1  S8M1  Clase\n",
       "0  26.0   4.0   5.0   8.0  -1.0 -13.0 -109.0 -66.0      0\n",
       "1 -47.0  -6.0  -5.0  -7.0  13.0  -1.0   35.0 -10.0      0\n",
       "2 -19.0  -8.0  -8.0  -8.0 -21.0  -6.0  -79.0  12.0      0\n",
       "3   2.0   3.0   0.0   2.0   0.0  22.0  106.0 -14.0      0\n",
       "4   6.0   0.0   0.0  -2.0 -14.0  10.0  -51.0   5.0      0\n",
       "5  15.0  -5.0  -5.0 -15.0  12.0 -22.0  -38.0  36.0      0\n",
       "6 -12.0  -5.0  -1.0   4.0 -16.0 -17.0  -69.0 -16.0      0\n",
       "7  43.0   0.0  -2.0   6.0  11.0  26.0   51.0  27.0      0"
      ]
     },
     "execution_count": 1,
     "metadata": {},
     "output_type": "execute_result"
    }
   ],
   "source": [
    "import pandas as pd\n",
    "import seaborn as sns\n",
    "import matplotlib.pyplot as plt\n",
    "\n",
    "dataset = pd.read_csv(\"prueba2/datos.csv\")\n",
    "dataset_clean = dataset.drop(['S1M2','S2M2','S3M2','S4M2','S5M2','S6M2','S7M2','S8M2',\n",
    "                              'S1M3','S2M3','S3M3','S4M3','S5M3','S6M3','S7M3','S8M3',\n",
    "                              'S1M4','S2M4','S3M4','S4M4','S5M4','S6M4','S7M4','S8M4',\n",
    "                              'S1M5','S2M5','S3M5','S4M5','S5M5','S6M5','S7M5','S8M5',\n",
    "                              'S1M6','S2M6','S3M6','S4M6','S5M6','S6M6','S7M6','S8M6',\n",
    "                              'S1M7','S2M7','S3M7','S4M7','S5M7','S6M7','S7M7','S8M7',\n",
    "                              'S1M8','S2M8','S3M8','S4M8','S5M8','S6M8','S7M8','S8M8'],1)\n",
    "\n",
    "#Tenía pensado sacar un promedio de las 8 muestras para cada sensor y asi tener 8 datos pero no supe como hacerlo\n",
    "\n",
    "\n",
    "dataset_clean[:8]"
   ]
  },
  {
   "cell_type": "code",
   "execution_count": 2,
   "metadata": {},
   "outputs": [
    {
     "data": {
      "text/plain": [
       "S1M1     0\n",
       "S2M1     0\n",
       "S3M1     0\n",
       "S4M1     0\n",
       "S5M1     0\n",
       "S6M1     0\n",
       "S7M1     0\n",
       "S8M1     0\n",
       "Clase    0\n",
       "dtype: int64"
      ]
     },
     "execution_count": 2,
     "metadata": {},
     "output_type": "execute_result"
    }
   ],
   "source": [
    "dataset_clean.isnull().sum()"
   ]
  },
  {
   "cell_type": "code",
   "execution_count": 3,
   "metadata": {},
   "outputs": [
    {
     "name": "stdout",
     "output_type": "stream",
     "text": [
      "<class 'pandas.core.frame.DataFrame'>\n",
      "RangeIndex: 8756 entries, 0 to 8755\n",
      "Data columns (total 9 columns):\n",
      "S1M1     8756 non-null float64\n",
      "S2M1     8756 non-null float64\n",
      "S3M1     8756 non-null float64\n",
      "S4M1     8756 non-null float64\n",
      "S5M1     8756 non-null float64\n",
      "S6M1     8756 non-null float64\n",
      "S7M1     8756 non-null float64\n",
      "S8M1     8756 non-null float64\n",
      "Clase    8756 non-null int64\n",
      "dtypes: float64(8), int64(1)\n",
      "memory usage: 615.7 KB\n"
     ]
    }
   ],
   "source": [
    "dataset_clean.info()"
   ]
  },
  {
   "cell_type": "markdown",
   "metadata": {},
   "source": [
    "## 2. Aprendizaje de un modelo de clasificación (Regresión logistica)"
   ]
  },
  {
   "cell_type": "code",
   "execution_count": 4,
   "metadata": {},
   "outputs": [],
   "source": [
    "import warnings\n",
    "warnings.filterwarnings('ignore')\n",
    "\n",
    "import numpy as np\n",
    "import pandas as pd\n",
    "import seaborn as sb\n",
    "import matplotlib.pyplot as plt\n",
    "import sklearn\n",
    "\n",
    "from pandas import Series, DataFrame\n",
    "from pylab import rcParams\n",
    "from sklearn import preprocessing\n",
    "from sklearn.linear_model import LogisticRegression\n",
    "from sklearn.model_selection import train_test_split\n",
    "from sklearn import metrics \n",
    "from sklearn.metrics import classification_report"
   ]
  },
  {
   "cell_type": "code",
   "execution_count": 5,
   "metadata": {},
   "outputs": [],
   "source": [
    "X = dataset_clean.ix[:,(0,1,2,3,4,5,6,7)].values\n",
    "y = dataset_clean.ix[:,8].values"
   ]
  },
  {
   "cell_type": "code",
   "execution_count": 6,
   "metadata": {},
   "outputs": [
    {
     "name": "stdout",
     "output_type": "stream",
     "text": [
      "[[ -4. -31.  10. ...  -1.  -1.  -2.]\n",
      " [ -6.  -9.  -5. ... -15.  -9. -35.]\n",
      " [ 83.   8.  -6. ... -41. -38. -21.]\n",
      " ...\n",
      " [  9.   6.  -2. ... -26. -58. -10.]\n",
      " [-14.  -7.   1. ...  15.   1.  -1.]\n",
      " [  6.  18.   2. ...  44.  22. -32.]]\n"
     ]
    }
   ],
   "source": [
    "X_train, X_test, y_train, y_test = train_test_split(X, y, test_size = .3, random_state=25)\n",
    "print(X_test)"
   ]
  },
  {
   "cell_type": "code",
   "execution_count": 7,
   "metadata": {},
   "outputs": [
    {
     "data": {
      "text/plain": [
       "LogisticRegression(C=1.0, class_weight=None, dual=False, fit_intercept=True,\n",
       "          intercept_scaling=1, max_iter=100, multi_class='warn',\n",
       "          n_jobs=None, penalty='l2', random_state=None, solver='warn',\n",
       "          tol=0.0001, verbose=0, warm_start=False)"
      ]
     },
     "execution_count": 7,
     "metadata": {},
     "output_type": "execute_result"
    }
   ],
   "source": [
    "LogReg = LogisticRegression()\n",
    "LogReg.fit(X_train, y_train)"
   ]
  },
  {
   "cell_type": "code",
   "execution_count": 8,
   "metadata": {},
   "outputs": [
    {
     "name": "stdout",
     "output_type": "stream",
     "text": [
      "coeficientes del modelo: [[ 7.77280082e-04  8.46856811e-04 -5.65727729e-04  1.58074315e-03\n",
      "   8.31061243e-04  1.54589308e-03 -3.61953251e-03  3.54524980e-03]\n",
      " [ 1.94460955e-03 -3.50697708e-04  2.27056534e-03 -2.17027578e-03\n",
      "  -1.57415314e-03  8.00454626e-05  1.97849888e-03 -2.88086475e-03]\n",
      " [-2.73654788e-03 -4.65234679e-04 -1.72419489e-03  6.41276315e-04\n",
      "   7.56730204e-04 -1.61508095e-03  1.61852862e-03 -6.29238367e-04]]\n",
      "intercept: [-0.71144316 -0.68346229 -0.68631729]\n"
     ]
    }
   ],
   "source": [
    "print(\"coeficientes del modelo: \"+str(LogReg.coef_))\n",
    "print(\"intercept: \"+str(LogReg.intercept_))"
   ]
  },
  {
   "cell_type": "code",
   "execution_count": 9,
   "metadata": {},
   "outputs": [
    {
     "data": {
      "text/plain": [
       "array([1, 1, 1, ..., 0, 2, 1])"
      ]
     },
     "execution_count": 9,
     "metadata": {},
     "output_type": "execute_result"
    }
   ],
   "source": [
    "#Predicciones\n",
    "y_pred = LogReg.predict(X_test)\n",
    "y_pred"
   ]
  },
  {
   "cell_type": "code",
   "execution_count": 10,
   "metadata": {},
   "outputs": [
    {
     "data": {
      "text/plain": [
       "array([[326, 274, 290],\n",
       "       [178, 305, 365],\n",
       "       [220, 307, 362]])"
      ]
     },
     "execution_count": 10,
     "metadata": {},
     "output_type": "execute_result"
    }
   ],
   "source": [
    "#Evaluación del rendimiento del clasificador\n",
    "from sklearn.metrics import confusion_matrix\n",
    "confusion_matrix = confusion_matrix(y_test, y_pred)\n",
    "confusion_matrix"
   ]
  },
  {
   "cell_type": "code",
   "execution_count": 11,
   "metadata": {},
   "outputs": [
    {
     "name": "stdout",
     "output_type": "stream",
     "text": [
      "              precision    recall  f1-score   support\n",
      "\n",
      "           0       0.45      0.37      0.40       890\n",
      "           1       0.34      0.36      0.35       848\n",
      "           2       0.36      0.41      0.38       889\n",
      "\n",
      "   micro avg       0.38      0.38      0.38      2627\n",
      "   macro avg       0.38      0.38      0.38      2627\n",
      "weighted avg       0.38      0.38      0.38      2627\n",
      "\n"
     ]
    }
   ],
   "source": [
    "print(classification_report(y_test, y_pred))"
   ]
  },
  {
   "cell_type": "markdown",
   "metadata": {},
   "source": [
    "## 2. Aprendizaje de un modelo de clasificación de tipo árbol de decisión "
   ]
  },
  {
   "cell_type": "code",
   "execution_count": 18,
   "metadata": {},
   "outputs": [],
   "source": [
    "X = dataset.iloc[0:len(dataset),0:13]\n",
    "y = dataset.iloc[0:len(dataset),13]"
   ]
  },
  {
   "cell_type": "code",
   "execution_count": 19,
   "metadata": {},
   "outputs": [],
   "source": [
    "from sklearn.model_selection import train_test_split\n",
    "X_train, X_test, y_train, y_test = train_test_split(X, y, test_size = .3, random_state=25)\n",
    "\n",
    "from sklearn import tree\n",
    "#Entrenamiento\n",
    "clf = tree.DecisionTreeClassifier()\n",
    "clf = clf.fit(X_train,y_train)"
   ]
  },
  {
   "cell_type": "code",
   "execution_count": 20,
   "metadata": {},
   "outputs": [
    {
     "name": "stdout",
     "output_type": "stream",
     "text": [
      "[[0 0 0 ... 0 0 0]\n",
      " [0 0 0 ... 0 0 0]\n",
      " [0 0 0 ... 0 0 0]\n",
      " ...\n",
      " [0 0 0 ... 0 0 0]\n",
      " [0 0 0 ... 0 0 0]\n",
      " [0 0 0 ... 0 0 0]]\n",
      "              precision    recall  f1-score   support\n",
      "\n",
      "      -128.0       0.00      0.00      0.00         1\n",
      "      -110.0       0.00      0.00      0.00         0\n",
      "       -93.0       0.00      0.00      0.00         0\n",
      "       -91.0       0.00      0.00      0.00         0\n",
      "       -84.0       0.00      0.00      0.00         2\n",
      "       -82.0       0.00      0.00      0.00         0\n",
      "       -81.0       0.00      0.00      0.00         1\n",
      "       -80.0       0.00      0.00      0.00         1\n",
      "       -79.0       0.00      0.00      0.00         1\n",
      "       -78.0       0.00      0.00      0.00         1\n",
      "       -77.0       0.00      0.00      0.00         2\n",
      "       -76.0       0.00      0.00      0.00         3\n",
      "       -75.0       0.00      0.00      0.00         1\n",
      "       -74.0       0.00      0.00      0.00         1\n",
      "       -73.0       0.00      0.00      0.00         1\n",
      "       -72.0       0.00      0.00      0.00         1\n",
      "       -71.0       0.00      0.00      0.00         1\n",
      "       -70.0       0.00      0.00      0.00         1\n",
      "       -69.0       0.00      0.00      0.00         1\n",
      "       -68.0       0.00      0.00      0.00         1\n",
      "       -67.0       0.00      0.00      0.00         1\n",
      "       -66.0       0.00      0.00      0.00         1\n",
      "       -65.0       0.00      0.00      0.00         0\n",
      "       -64.0       0.00      0.00      0.00         2\n",
      "       -63.0       0.00      0.00      0.00         1\n",
      "       -62.0       0.00      0.00      0.00         3\n",
      "       -61.0       0.00      0.00      0.00         1\n",
      "       -60.0       0.00      0.00      0.00         3\n",
      "       -59.0       0.00      0.00      0.00         3\n",
      "       -58.0       0.00      0.00      0.00         2\n",
      "       -57.0       0.00      0.00      0.00         3\n",
      "       -56.0       0.00      0.00      0.00         0\n",
      "       -55.0       0.00      0.00      0.00         2\n",
      "       -54.0       0.00      0.00      0.00         1\n",
      "       -53.0       0.00      0.00      0.00         3\n",
      "       -52.0       0.00      0.00      0.00         5\n",
      "       -51.0       0.00      0.00      0.00         4\n",
      "       -50.0       0.00      0.00      0.00         7\n",
      "       -49.0       0.00      0.00      0.00         2\n",
      "       -48.0       0.00      0.00      0.00         5\n",
      "       -47.0       0.00      0.00      0.00         7\n",
      "       -46.0       0.00      0.00      0.00         4\n",
      "       -45.0       0.00      0.00      0.00         5\n",
      "       -44.0       0.00      0.00      0.00         7\n",
      "       -43.0       0.00      0.00      0.00         8\n",
      "       -42.0       0.00      0.00      0.00         7\n",
      "       -41.0       0.17      0.11      0.13         9\n",
      "       -40.0       0.00      0.00      0.00         7\n",
      "       -39.0       0.00      0.00      0.00        10\n",
      "       -38.0       0.00      0.00      0.00         3\n",
      "       -37.0       0.00      0.00      0.00         8\n",
      "       -36.0       0.00      0.00      0.00        13\n",
      "       -35.0       0.00      0.00      0.00        11\n",
      "       -34.0       0.00      0.00      0.00        11\n",
      "       -33.0       0.00      0.00      0.00        14\n",
      "       -32.0       0.00      0.00      0.00        10\n",
      "       -31.0       0.09      0.06      0.07        17\n",
      "       -30.0       0.00      0.00      0.00        16\n",
      "       -29.0       0.00      0.00      0.00        18\n",
      "       -28.0       0.06      0.06      0.06        17\n",
      "       -27.0       0.00      0.00      0.00        17\n",
      "       -26.0       0.00      0.00      0.00        16\n",
      "       -25.0       0.06      0.05      0.05        21\n",
      "       -24.0       0.00      0.00      0.00        24\n",
      "       -23.0       0.00      0.00      0.00        22\n",
      "       -22.0       0.00      0.00      0.00        24\n",
      "       -21.0       0.03      0.04      0.03        25\n",
      "       -20.0       0.00      0.00      0.00        25\n",
      "       -19.0       0.00      0.00      0.00        19\n",
      "       -18.0       0.04      0.04      0.04        27\n",
      "       -17.0       0.00      0.00      0.00        23\n",
      "       -16.0       0.04      0.04      0.04        24\n",
      "       -15.0       0.00      0.00      0.00        37\n",
      "       -14.0       0.03      0.03      0.03        33\n",
      "       -13.0       0.03      0.02      0.03        45\n",
      "       -12.0       0.00      0.00      0.00        52\n",
      "       -11.0       0.02      0.02      0.02        42\n",
      "       -10.0       0.07      0.09      0.08        46\n",
      "        -9.0       0.08      0.07      0.07        43\n",
      "        -8.0       0.03      0.04      0.03        56\n",
      "        -7.0       0.05      0.05      0.05        65\n",
      "        -6.0       0.00      0.00      0.00        51\n",
      "        -5.0       0.07      0.10      0.08        50\n",
      "        -4.0       0.00      0.00      0.00        67\n",
      "        -3.0       0.02      0.02      0.02        58\n",
      "        -2.0       0.04      0.03      0.03        67\n",
      "        -1.0       0.02      0.02      0.02        81\n",
      "         0.0       0.01      0.01      0.01        67\n",
      "         1.0       0.05      0.05      0.05        74\n",
      "         2.0       0.00      0.00      0.00        57\n",
      "         3.0       0.05      0.05      0.05        61\n",
      "         4.0       0.03      0.03      0.03        60\n",
      "         5.0       0.05      0.05      0.05        64\n",
      "         6.0       0.02      0.02      0.02        43\n",
      "         7.0       0.00      0.00      0.00        49\n",
      "         8.0       0.00      0.00      0.00        40\n",
      "         9.0       0.05      0.04      0.04        51\n",
      "        10.0       0.00      0.00      0.00        36\n",
      "        11.0       0.03      0.03      0.03        33\n",
      "        12.0       0.09      0.07      0.08        41\n",
      "        13.0       0.00      0.00      0.00        37\n",
      "        14.0       0.06      0.06      0.06        36\n",
      "        15.0       0.00      0.00      0.00        32\n",
      "        16.0       0.00      0.00      0.00        31\n",
      "        17.0       0.06      0.07      0.07        27\n",
      "        18.0       0.00      0.00      0.00        26\n",
      "        19.0       0.04      0.03      0.04        30\n",
      "        20.0       0.00      0.00      0.00        20\n",
      "        21.0       0.00      0.00      0.00        32\n",
      "        22.0       0.04      0.05      0.04        22\n",
      "        23.0       0.04      0.03      0.03        34\n",
      "        24.0       0.07      0.08      0.08        25\n",
      "        25.0       0.00      0.00      0.00        24\n",
      "        26.0       0.03      0.05      0.04        19\n",
      "        27.0       0.00      0.00      0.00        14\n",
      "        28.0       0.00      0.00      0.00        16\n",
      "        29.0       0.00      0.00      0.00        12\n",
      "        30.0       0.10      0.08      0.09        13\n",
      "        31.0       0.00      0.00      0.00        15\n",
      "        32.0       0.00      0.00      0.00         8\n",
      "        33.0       0.00      0.00      0.00        11\n",
      "        34.0       0.00      0.00      0.00        10\n",
      "        35.0       0.00      0.00      0.00         5\n",
      "        36.0       0.00      0.00      0.00         9\n",
      "        37.0       0.00      0.00      0.00        10\n",
      "        38.0       0.00      0.00      0.00         6\n",
      "        39.0       0.00      0.00      0.00         6\n",
      "        40.0       0.00      0.00      0.00         8\n",
      "        41.0       0.00      0.00      0.00         9\n",
      "        42.0       0.00      0.00      0.00         3\n",
      "        43.0       0.00      0.00      0.00         3\n",
      "        44.0       0.00      0.00      0.00         5\n",
      "        45.0       0.00      0.00      0.00         5\n",
      "        46.0       0.00      0.00      0.00         5\n",
      "        47.0       0.00      0.00      0.00         4\n",
      "        48.0       0.00      0.00      0.00         2\n",
      "        49.0       0.00      0.00      0.00         2\n",
      "        50.0       0.00      0.00      0.00         5\n",
      "        51.0       0.00      0.00      0.00         3\n",
      "        52.0       0.00      0.00      0.00         1\n",
      "        53.0       0.00      0.00      0.00         2\n",
      "        54.0       0.00      0.00      0.00         3\n",
      "        55.0       0.00      0.00      0.00         1\n",
      "        57.0       0.00      0.00      0.00         1\n",
      "        58.0       0.00      0.00      0.00         1\n",
      "        59.0       0.00      0.00      0.00         2\n",
      "        60.0       0.00      0.00      0.00         2\n",
      "        61.0       0.00      0.00      0.00         1\n",
      "        62.0       0.00      0.00      0.00         1\n",
      "        63.0       0.00      0.00      0.00         0\n",
      "        64.0       0.00      0.00      0.00         1\n",
      "        65.0       0.00      0.00      0.00         1\n",
      "        66.0       0.00      0.00      0.00         1\n",
      "        67.0       0.00      0.00      0.00         2\n",
      "        68.0       0.00      0.00      0.00         2\n",
      "        70.0       0.00      0.00      0.00         0\n",
      "        71.0       0.00      0.00      0.00         1\n",
      "        72.0       0.00      0.00      0.00         2\n",
      "        73.0       0.00      0.00      0.00         0\n",
      "        74.0       0.00      0.00      0.00         0\n",
      "        75.0       0.00      0.00      0.00         1\n",
      "        77.0       0.00      0.00      0.00         1\n",
      "        78.0       0.00      0.00      0.00         1\n",
      "        79.0       0.00      0.00      0.00         1\n",
      "        80.0       0.00      0.00      0.00         1\n",
      "        85.0       0.00      0.00      0.00         0\n",
      "        87.0       0.00      0.00      0.00         1\n",
      "        88.0       0.00      0.00      0.00         1\n",
      "        89.0       0.00      0.00      0.00         1\n",
      "        90.0       0.00      0.00      0.00         0\n",
      "        95.0       0.00      0.00      0.00         0\n",
      "        96.0       0.00      0.00      0.00         1\n",
      "        99.0       0.00      0.00      0.00         1\n",
      "       100.0       0.00      0.00      0.00         1\n",
      "\n",
      "   micro avg       0.02      0.02      0.02      2627\n",
      "   macro avg       0.01      0.01      0.01      2627\n",
      "weighted avg       0.02      0.02      0.02      2627\n",
      "\n"
     ]
    }
   ],
   "source": [
    "#Predicciones\n",
    "y_pred = clf.predict(X_test)\n",
    "#Evaluación del rendimiento del clasificador\n",
    "from sklearn.metrics import confusion_matrix\n",
    "confusion_matrix = confusion_matrix(y_test, y_pred)\n",
    "print(confusion_matrix)\n",
    "#Print de la matriz de confusión\n",
    "from sklearn.metrics import classification_report\n",
    "print(classification_report(y_test, y_pred))"
   ]
  },
  {
   "cell_type": "code",
   "execution_count": 22,
   "metadata": {},
   "outputs": [
    {
     "ename": "ModuleNotFoundError",
     "evalue": "No module named 'pydot'",
     "output_type": "error",
     "traceback": [
      "\u001b[0;31m---------------------------------------------------------------------------\u001b[0m",
      "\u001b[0;31mModuleNotFoundError\u001b[0m                       Traceback (most recent call last)",
      "\u001b[0;32m<ipython-input-22-86a5c20ea998>\u001b[0m in \u001b[0;36m<module>\u001b[0;34m\u001b[0m\n\u001b[1;32m      1\u001b[0m \u001b[0;32mfrom\u001b[0m \u001b[0msklearn\u001b[0m\u001b[0;34m.\u001b[0m\u001b[0mexternals\u001b[0m\u001b[0;34m.\u001b[0m\u001b[0msix\u001b[0m \u001b[0;32mimport\u001b[0m \u001b[0mStringIO\u001b[0m\u001b[0;34m\u001b[0m\u001b[0;34m\u001b[0m\u001b[0m\n\u001b[0;32m----> 2\u001b[0;31m \u001b[0;32mimport\u001b[0m \u001b[0mpydot\u001b[0m \u001b[0;31m#sudo apt install python3-pydot graphviz\u001b[0m\u001b[0;34m\u001b[0m\u001b[0;34m\u001b[0m\u001b[0m\n\u001b[0m\u001b[1;32m      3\u001b[0m \u001b[0;34m\u001b[0m\u001b[0m\n\u001b[1;32m      4\u001b[0m \u001b[0mdot_data\u001b[0m \u001b[0;34m=\u001b[0m \u001b[0mStringIO\u001b[0m\u001b[0;34m(\u001b[0m\u001b[0;34m)\u001b[0m\u001b[0;34m\u001b[0m\u001b[0;34m\u001b[0m\u001b[0m\n\u001b[1;32m      5\u001b[0m \u001b[0;34m\u001b[0m\u001b[0m\n",
      "\u001b[0;31mModuleNotFoundError\u001b[0m: No module named 'pydot'"
     ]
    }
   ],
   "source": [
    "from sklearn.externals.six import StringIO\n",
    "import pydot #sudo apt install python3-pydot graphviz\n",
    "\n",
    "dot_data = StringIO()\n",
    "\n",
    "features=['S1','S2','S3','S4','S5','S6''S7','S8']\n",
    "classes=['0','1','2']\n",
    "tree.export_graphviz(clf,out_file=dot_data,feature_names=features,class_names=classes, filled=True, \n",
    "                     rounded=True, impurity=False)\n",
    "\n",
    "graph = pydot.graph_from_dot_data(dot_data.getvalue())\n",
    "graph[0].write_png('modelo.png')"
   ]
  },
  {
   "cell_type": "markdown",
   "metadata": {},
   "source": [
    "<img src=\"modelo.png\">Modelo DecisionTree</img>"
   ]
  },
  {
   "cell_type": "code",
   "execution_count": null,
   "metadata": {},
   "outputs": [],
   "source": []
  },
  {
   "cell_type": "code",
   "execution_count": null,
   "metadata": {},
   "outputs": [],
   "source": []
  }
 ],
 "metadata": {
  "kernelspec": {
   "display_name": "Python 3",
   "language": "python",
   "name": "python3"
  },
  "language_info": {
   "codemirror_mode": {
    "name": "ipython",
    "version": 3
   },
   "file_extension": ".py",
   "mimetype": "text/x-python",
   "name": "python",
   "nbconvert_exporter": "python",
   "pygments_lexer": "ipython3",
   "version": "3.7.3"
  }
 },
 "nbformat": 4,
 "nbformat_minor": 2
}
